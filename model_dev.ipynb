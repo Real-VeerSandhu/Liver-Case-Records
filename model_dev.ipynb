{
 "metadata": {
  "language_info": {
   "codemirror_mode": {
    "name": "ipython",
    "version": 3
   },
   "file_extension": ".py",
   "mimetype": "text/x-python",
   "name": "python",
   "nbconvert_exporter": "python",
   "pygments_lexer": "ipython3",
   "version": "3.6.12"
  },
  "orig_nbformat": 2,
  "kernelspec": {
   "name": "python3612jvsc74a57bd0fefd83eafc0c2f3c8796de3f6632c2698dc12eafcdd46e5a8c965eb3d21b0b49",
   "display_name": "Python 3.6.12 64-bit ('env0': conda)"
  }
 },
 "nbformat": 4,
 "nbformat_minor": 2,
 "cells": [
  {
   "cell_type": "code",
   "execution_count": 1,
   "metadata": {},
   "outputs": [],
   "source": [
    "import tensorflow as tf \n",
    "import pandas as pd\n",
    "\n",
    "from sklearn.model_selection import train_test_split\n",
    "from sklearn.ensemble import RandomForestClassifier\n",
    "from sklearn.linear_model import LogisticRegression\n",
    "from sklearn.metrics import accuracy_score\n",
    "\n",
    "from joblib import dump"
   ]
  },
  {
   "cell_type": "code",
   "execution_count": 2,
   "metadata": {},
   "outputs": [],
   "source": [
    "data = pd.read_csv('output_readings/final_processed_data.csv')\n",
    "data = data.drop(columns = 'Unnamed: 0')"
   ]
  },
  {
   "cell_type": "code",
   "execution_count": 3,
   "metadata": {},
   "outputs": [
    {
     "output_type": "execute_result",
     "data": {
      "text/plain": [
       "     Age  Is_Male  Total_Bilirubin  Direct_Bilirubin  Alkaline_Phosphotase  \\\n",
       "0     65        0              0.7               0.1                   187   \n",
       "1     62        1             10.9               5.5                   699   \n",
       "2     62        1              7.3               4.1                   490   \n",
       "3     58        1              1.0               0.4                   182   \n",
       "4     72        1              3.9               2.0                   195   \n",
       "..   ...      ...              ...               ...                   ...   \n",
       "574   60        1              0.5               0.1                   500   \n",
       "575   40        1              0.6               0.1                    98   \n",
       "576   52        1              0.8               0.2                   245   \n",
       "577   31        1              1.3               0.5                   184   \n",
       "578   38        1              1.0               0.3                   216   \n",
       "\n",
       "     Alamine_Aminotransferase  Aspartate_Aminotransferase  Total_Protiens  \\\n",
       "0                          16                          18             6.8   \n",
       "1                          64                         100             7.5   \n",
       "2                          60                          68             7.0   \n",
       "3                          14                          20             6.8   \n",
       "4                          27                          59             7.3   \n",
       "..                        ...                         ...             ...   \n",
       "574                        20                          34             5.9   \n",
       "575                        35                          31             6.0   \n",
       "576                        48                          49             6.4   \n",
       "577                        29                          32             6.8   \n",
       "578                        21                          24             7.3   \n",
       "\n",
       "     Albumin  Albumin_and_Globulin_Ratio  Valid_Patient  \n",
       "0        3.3                        0.90              1  \n",
       "1        3.2                        0.74              1  \n",
       "2        3.3                        0.89              1  \n",
       "3        3.4                        1.00              1  \n",
       "4        2.4                        0.40              1  \n",
       "..       ...                         ...            ...  \n",
       "574      1.6                        0.37              0  \n",
       "575      3.2                        1.10              1  \n",
       "576      3.2                        1.00              1  \n",
       "577      3.4                        1.00              1  \n",
       "578      4.4                        1.50              0  \n",
       "\n",
       "[579 rows x 11 columns]"
      ],
      "text/html": "<div>\n<style scoped>\n    .dataframe tbody tr th:only-of-type {\n        vertical-align: middle;\n    }\n\n    .dataframe tbody tr th {\n        vertical-align: top;\n    }\n\n    .dataframe thead th {\n        text-align: right;\n    }\n</style>\n<table border=\"1\" class=\"dataframe\">\n  <thead>\n    <tr style=\"text-align: right;\">\n      <th></th>\n      <th>Age</th>\n      <th>Is_Male</th>\n      <th>Total_Bilirubin</th>\n      <th>Direct_Bilirubin</th>\n      <th>Alkaline_Phosphotase</th>\n      <th>Alamine_Aminotransferase</th>\n      <th>Aspartate_Aminotransferase</th>\n      <th>Total_Protiens</th>\n      <th>Albumin</th>\n      <th>Albumin_and_Globulin_Ratio</th>\n      <th>Valid_Patient</th>\n    </tr>\n  </thead>\n  <tbody>\n    <tr>\n      <th>0</th>\n      <td>65</td>\n      <td>0</td>\n      <td>0.7</td>\n      <td>0.1</td>\n      <td>187</td>\n      <td>16</td>\n      <td>18</td>\n      <td>6.8</td>\n      <td>3.3</td>\n      <td>0.90</td>\n      <td>1</td>\n    </tr>\n    <tr>\n      <th>1</th>\n      <td>62</td>\n      <td>1</td>\n      <td>10.9</td>\n      <td>5.5</td>\n      <td>699</td>\n      <td>64</td>\n      <td>100</td>\n      <td>7.5</td>\n      <td>3.2</td>\n      <td>0.74</td>\n      <td>1</td>\n    </tr>\n    <tr>\n      <th>2</th>\n      <td>62</td>\n      <td>1</td>\n      <td>7.3</td>\n      <td>4.1</td>\n      <td>490</td>\n      <td>60</td>\n      <td>68</td>\n      <td>7.0</td>\n      <td>3.3</td>\n      <td>0.89</td>\n      <td>1</td>\n    </tr>\n    <tr>\n      <th>3</th>\n      <td>58</td>\n      <td>1</td>\n      <td>1.0</td>\n      <td>0.4</td>\n      <td>182</td>\n      <td>14</td>\n      <td>20</td>\n      <td>6.8</td>\n      <td>3.4</td>\n      <td>1.00</td>\n      <td>1</td>\n    </tr>\n    <tr>\n      <th>4</th>\n      <td>72</td>\n      <td>1</td>\n      <td>3.9</td>\n      <td>2.0</td>\n      <td>195</td>\n      <td>27</td>\n      <td>59</td>\n      <td>7.3</td>\n      <td>2.4</td>\n      <td>0.40</td>\n      <td>1</td>\n    </tr>\n    <tr>\n      <th>...</th>\n      <td>...</td>\n      <td>...</td>\n      <td>...</td>\n      <td>...</td>\n      <td>...</td>\n      <td>...</td>\n      <td>...</td>\n      <td>...</td>\n      <td>...</td>\n      <td>...</td>\n      <td>...</td>\n    </tr>\n    <tr>\n      <th>574</th>\n      <td>60</td>\n      <td>1</td>\n      <td>0.5</td>\n      <td>0.1</td>\n      <td>500</td>\n      <td>20</td>\n      <td>34</td>\n      <td>5.9</td>\n      <td>1.6</td>\n      <td>0.37</td>\n      <td>0</td>\n    </tr>\n    <tr>\n      <th>575</th>\n      <td>40</td>\n      <td>1</td>\n      <td>0.6</td>\n      <td>0.1</td>\n      <td>98</td>\n      <td>35</td>\n      <td>31</td>\n      <td>6.0</td>\n      <td>3.2</td>\n      <td>1.10</td>\n      <td>1</td>\n    </tr>\n    <tr>\n      <th>576</th>\n      <td>52</td>\n      <td>1</td>\n      <td>0.8</td>\n      <td>0.2</td>\n      <td>245</td>\n      <td>48</td>\n      <td>49</td>\n      <td>6.4</td>\n      <td>3.2</td>\n      <td>1.00</td>\n      <td>1</td>\n    </tr>\n    <tr>\n      <th>577</th>\n      <td>31</td>\n      <td>1</td>\n      <td>1.3</td>\n      <td>0.5</td>\n      <td>184</td>\n      <td>29</td>\n      <td>32</td>\n      <td>6.8</td>\n      <td>3.4</td>\n      <td>1.00</td>\n      <td>1</td>\n    </tr>\n    <tr>\n      <th>578</th>\n      <td>38</td>\n      <td>1</td>\n      <td>1.0</td>\n      <td>0.3</td>\n      <td>216</td>\n      <td>21</td>\n      <td>24</td>\n      <td>7.3</td>\n      <td>4.4</td>\n      <td>1.50</td>\n      <td>0</td>\n    </tr>\n  </tbody>\n</table>\n<p>579 rows × 11 columns</p>\n</div>"
     },
     "metadata": {},
     "execution_count": 3
    }
   ],
   "source": [
    "data"
   ]
  },
  {
   "cell_type": "code",
   "execution_count": 4,
   "metadata": {},
   "outputs": [],
   "source": [
    "X = data.drop(columns = 'Valid_Patient')\n",
    "y = data['Valid_Patient']"
   ]
  },
  {
   "cell_type": "code",
   "execution_count": 5,
   "metadata": {},
   "outputs": [
    {
     "output_type": "execute_result",
     "data": {
      "text/plain": [
       "     Age  Is_Male  Total_Bilirubin  Direct_Bilirubin  Alkaline_Phosphotase  \\\n",
       "0     65        0              0.7               0.1                   187   \n",
       "1     62        1             10.9               5.5                   699   \n",
       "2     62        1              7.3               4.1                   490   \n",
       "3     58        1              1.0               0.4                   182   \n",
       "4     72        1              3.9               2.0                   195   \n",
       "..   ...      ...              ...               ...                   ...   \n",
       "574   60        1              0.5               0.1                   500   \n",
       "575   40        1              0.6               0.1                    98   \n",
       "576   52        1              0.8               0.2                   245   \n",
       "577   31        1              1.3               0.5                   184   \n",
       "578   38        1              1.0               0.3                   216   \n",
       "\n",
       "     Alamine_Aminotransferase  Aspartate_Aminotransferase  Total_Protiens  \\\n",
       "0                          16                          18             6.8   \n",
       "1                          64                         100             7.5   \n",
       "2                          60                          68             7.0   \n",
       "3                          14                          20             6.8   \n",
       "4                          27                          59             7.3   \n",
       "..                        ...                         ...             ...   \n",
       "574                        20                          34             5.9   \n",
       "575                        35                          31             6.0   \n",
       "576                        48                          49             6.4   \n",
       "577                        29                          32             6.8   \n",
       "578                        21                          24             7.3   \n",
       "\n",
       "     Albumin  Albumin_and_Globulin_Ratio  \n",
       "0        3.3                        0.90  \n",
       "1        3.2                        0.74  \n",
       "2        3.3                        0.89  \n",
       "3        3.4                        1.00  \n",
       "4        2.4                        0.40  \n",
       "..       ...                         ...  \n",
       "574      1.6                        0.37  \n",
       "575      3.2                        1.10  \n",
       "576      3.2                        1.00  \n",
       "577      3.4                        1.00  \n",
       "578      4.4                        1.50  \n",
       "\n",
       "[579 rows x 10 columns]"
      ],
      "text/html": "<div>\n<style scoped>\n    .dataframe tbody tr th:only-of-type {\n        vertical-align: middle;\n    }\n\n    .dataframe tbody tr th {\n        vertical-align: top;\n    }\n\n    .dataframe thead th {\n        text-align: right;\n    }\n</style>\n<table border=\"1\" class=\"dataframe\">\n  <thead>\n    <tr style=\"text-align: right;\">\n      <th></th>\n      <th>Age</th>\n      <th>Is_Male</th>\n      <th>Total_Bilirubin</th>\n      <th>Direct_Bilirubin</th>\n      <th>Alkaline_Phosphotase</th>\n      <th>Alamine_Aminotransferase</th>\n      <th>Aspartate_Aminotransferase</th>\n      <th>Total_Protiens</th>\n      <th>Albumin</th>\n      <th>Albumin_and_Globulin_Ratio</th>\n    </tr>\n  </thead>\n  <tbody>\n    <tr>\n      <th>0</th>\n      <td>65</td>\n      <td>0</td>\n      <td>0.7</td>\n      <td>0.1</td>\n      <td>187</td>\n      <td>16</td>\n      <td>18</td>\n      <td>6.8</td>\n      <td>3.3</td>\n      <td>0.90</td>\n    </tr>\n    <tr>\n      <th>1</th>\n      <td>62</td>\n      <td>1</td>\n      <td>10.9</td>\n      <td>5.5</td>\n      <td>699</td>\n      <td>64</td>\n      <td>100</td>\n      <td>7.5</td>\n      <td>3.2</td>\n      <td>0.74</td>\n    </tr>\n    <tr>\n      <th>2</th>\n      <td>62</td>\n      <td>1</td>\n      <td>7.3</td>\n      <td>4.1</td>\n      <td>490</td>\n      <td>60</td>\n      <td>68</td>\n      <td>7.0</td>\n      <td>3.3</td>\n      <td>0.89</td>\n    </tr>\n    <tr>\n      <th>3</th>\n      <td>58</td>\n      <td>1</td>\n      <td>1.0</td>\n      <td>0.4</td>\n      <td>182</td>\n      <td>14</td>\n      <td>20</td>\n      <td>6.8</td>\n      <td>3.4</td>\n      <td>1.00</td>\n    </tr>\n    <tr>\n      <th>4</th>\n      <td>72</td>\n      <td>1</td>\n      <td>3.9</td>\n      <td>2.0</td>\n      <td>195</td>\n      <td>27</td>\n      <td>59</td>\n      <td>7.3</td>\n      <td>2.4</td>\n      <td>0.40</td>\n    </tr>\n    <tr>\n      <th>...</th>\n      <td>...</td>\n      <td>...</td>\n      <td>...</td>\n      <td>...</td>\n      <td>...</td>\n      <td>...</td>\n      <td>...</td>\n      <td>...</td>\n      <td>...</td>\n      <td>...</td>\n    </tr>\n    <tr>\n      <th>574</th>\n      <td>60</td>\n      <td>1</td>\n      <td>0.5</td>\n      <td>0.1</td>\n      <td>500</td>\n      <td>20</td>\n      <td>34</td>\n      <td>5.9</td>\n      <td>1.6</td>\n      <td>0.37</td>\n    </tr>\n    <tr>\n      <th>575</th>\n      <td>40</td>\n      <td>1</td>\n      <td>0.6</td>\n      <td>0.1</td>\n      <td>98</td>\n      <td>35</td>\n      <td>31</td>\n      <td>6.0</td>\n      <td>3.2</td>\n      <td>1.10</td>\n    </tr>\n    <tr>\n      <th>576</th>\n      <td>52</td>\n      <td>1</td>\n      <td>0.8</td>\n      <td>0.2</td>\n      <td>245</td>\n      <td>48</td>\n      <td>49</td>\n      <td>6.4</td>\n      <td>3.2</td>\n      <td>1.00</td>\n    </tr>\n    <tr>\n      <th>577</th>\n      <td>31</td>\n      <td>1</td>\n      <td>1.3</td>\n      <td>0.5</td>\n      <td>184</td>\n      <td>29</td>\n      <td>32</td>\n      <td>6.8</td>\n      <td>3.4</td>\n      <td>1.00</td>\n    </tr>\n    <tr>\n      <th>578</th>\n      <td>38</td>\n      <td>1</td>\n      <td>1.0</td>\n      <td>0.3</td>\n      <td>216</td>\n      <td>21</td>\n      <td>24</td>\n      <td>7.3</td>\n      <td>4.4</td>\n      <td>1.50</td>\n    </tr>\n  </tbody>\n</table>\n<p>579 rows × 10 columns</p>\n</div>"
     },
     "metadata": {},
     "execution_count": 5
    }
   ],
   "source": [
    "X"
   ]
  },
  {
   "cell_type": "code",
   "execution_count": 6,
   "metadata": {},
   "outputs": [
    {
     "output_type": "execute_result",
     "data": {
      "text/plain": [
       "0      1\n",
       "1      1\n",
       "2      1\n",
       "3      1\n",
       "4      1\n",
       "      ..\n",
       "574    0\n",
       "575    1\n",
       "576    1\n",
       "577    1\n",
       "578    0\n",
       "Name: Valid_Patient, Length: 579, dtype: int64"
      ]
     },
     "metadata": {},
     "execution_count": 6
    }
   ],
   "source": [
    "y"
   ]
  },
  {
   "cell_type": "code",
   "execution_count": 7,
   "metadata": {},
   "outputs": [],
   "source": [
    "X_train, X_test, y_train, y_test = train_test_split(X, y, test_size=0.10, random_state=101)"
   ]
  },
  {
   "cell_type": "code",
   "execution_count": 8,
   "metadata": {},
   "outputs": [
    {
     "output_type": "stream",
     "name": "stdout",
     "text": [
      "Accuracy Score: 72.41%\n"
     ]
    },
    {
     "output_type": "execute_result",
     "data": {
      "text/plain": [
       "['rfc_liver.joblib']"
      ]
     },
     "metadata": {},
     "execution_count": 8
    }
   ],
   "source": [
    "rfc = RandomForestClassifier()\n",
    "rfc.fit(X_train, y_train)\n",
    "\n",
    "rfc_predict = rfc.predict(X_test)\n",
    "rfc_score = accuracy_score(y_test, rfc_predict)\n",
    "print(f'Accuracy Score: {round(rfc_score*100, 2)}%')\n",
    "dump(rfc, 'rfc_liver.joblib')"
   ]
  },
  {
   "cell_type": "code",
   "execution_count": 9,
   "metadata": {},
   "outputs": [
    {
     "output_type": "stream",
     "name": "stdout",
     "text": [
      "Accuracy Score: 67.24%\n",
      "C:\\Users\\sandh_mq54ena\\.conda\\envs\\env0\\lib\\site-packages\\sklearn\\linear_model\\_logistic.py:764: ConvergenceWarning: lbfgs failed to converge (status=1):\n",
      "STOP: TOTAL NO. of ITERATIONS REACHED LIMIT.\n",
      "\n",
      "Increase the number of iterations (max_iter) or scale the data as shown in:\n",
      "    https://scikit-learn.org/stable/modules/preprocessing.html\n",
      "Please also refer to the documentation for alternative solver options:\n",
      "    https://scikit-learn.org/stable/modules/linear_model.html#logistic-regression\n",
      "  extra_warning_msg=_LOGISTIC_SOLVER_CONVERGENCE_MSG)\n"
     ]
    },
    {
     "output_type": "execute_result",
     "data": {
      "text/plain": [
       "['lr_liver.joblib']"
      ]
     },
     "metadata": {},
     "execution_count": 9
    }
   ],
   "source": [
    "lr = LogisticRegression()\n",
    "lr.fit(X_train, y_train)\n",
    "\n",
    "lr_predict = lr.predict(X_test)\n",
    "lr_score = accuracy_score(y_test, lr_predict)\n",
    "print(f'Accuracy Score: {round(lr_score*100, 2)}%')\n",
    "dump(lr, 'lr_liver.joblib')"
   ]
  },
  {
   "cell_type": "code",
   "execution_count": 10,
   "metadata": {},
   "outputs": [
    {
     "output_type": "execute_result",
     "data": {
      "text/plain": [
       "array([[ 0.01683132, -0.00342152, -0.02159559,  0.6036238 ,  0.00081658,\n",
       "         0.01269088,  0.00518741,  0.12633268, -0.4056317 , -0.09496327]])"
      ]
     },
     "metadata": {},
     "execution_count": 10
    }
   ],
   "source": [
    "lr.coef_"
   ]
  },
  {
   "cell_type": "code",
   "execution_count": null,
   "metadata": {},
   "outputs": [],
   "source": []
  }
 ]
}