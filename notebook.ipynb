{
 "metadata": {
  "language_info": {
   "codemirror_mode": {
    "name": "ipython",
    "version": 3
   },
   "file_extension": ".py",
   "mimetype": "text/x-python",
   "name": "python",
   "nbconvert_exporter": "python",
   "pygments_lexer": "ipython3",
   "version": "3.6.12"
  },
  "orig_nbformat": 2,
  "kernelspec": {
   "name": "python3612jvsc74a57bd0fefd83eafc0c2f3c8796de3f6632c2698dc12eafcdd46e5a8c965eb3d21b0b49",
   "display_name": "Python 3.6.12 64-bit ('env0': conda)"
  }
 },
 "nbformat": 4,
 "nbformat_minor": 2,
 "cells": [
  {
   "cell_type": "code",
   "execution_count": 1,
   "metadata": {},
   "outputs": [],
   "source": [
    "import pandas as pd\n",
    "import numpy as np\n",
    "import matplotlib.pyplot as plt\n",
    "import seaborn as sns\n",
    "%matplotlib inline\n",
    "\n",
    "from sklearn.preprocessing import LabelEncoder\n",
    "\n",
    "from sklearn.metrics import accuracy_score\n",
    "from sklearn.model_selection import train_test_split\n",
    "from sklearn.metrics import classification_report,confusion_matrix\n",
    "from sklearn import linear_model\n",
    "from sklearn.linear_model import LogisticRegression\n",
    "from sklearn.svm import SVC, LinearSVC\n",
    "from sklearn.ensemble import RandomForestClassifier, AdaBoostClassifier, BaggingClassifier\n",
    "from sklearn.neighbors import KNeighborsClassifier\n",
    "from sklearn.naive_bayes import GaussianNB\n",
    "from sklearn.linear_model import Perceptron\n",
    "from sklearn.linear_model import SGDClassifier\n",
    "from sklearn.tree import DecisionTreeClassifier\n",
    "from sklearn.neural_network import MLPClassifier"
   ]
  },
  {
   "cell_type": "code",
   "execution_count": 31,
   "metadata": {},
   "outputs": [],
   "source": [
    "liver_df = pd.read_csv('data/indian_liver_patient.csv')\n",
    "liver_df = liver_df.rename(columns= {'Dataset': 'Required_Surgery', 'Gender': 'Is_Male'})\n",
    "\n",
    "m = {'Male': 1, 'Female': 0}\n",
    "liver_df['Is_Male'] = liver_df['Is_Male'].map(m)\n",
    "\n",
    "liver_df['Required_Surgery'] -= 1"
   ]
  },
  {
   "cell_type": "code",
   "execution_count": 32,
   "metadata": {},
   "outputs": [
    {
     "output_type": "execute_result",
     "data": {
      "text/plain": [
       "     Age  Is_Male  Total_Bilirubin  Direct_Bilirubin  Alkaline_Phosphotase  \\\n",
       "0     65        0              0.7               0.1                   187   \n",
       "1     62        1             10.9               5.5                   699   \n",
       "2     62        1              7.3               4.1                   490   \n",
       "3     58        1              1.0               0.4                   182   \n",
       "4     72        1              3.9               2.0                   195   \n",
       "..   ...      ...              ...               ...                   ...   \n",
       "578   60        1              0.5               0.1                   500   \n",
       "579   40        1              0.6               0.1                    98   \n",
       "580   52        1              0.8               0.2                   245   \n",
       "581   31        1              1.3               0.5                   184   \n",
       "582   38        1              1.0               0.3                   216   \n",
       "\n",
       "     Alamine_Aminotransferase  Aspartate_Aminotransferase  Total_Protiens  \\\n",
       "0                          16                          18             6.8   \n",
       "1                          64                         100             7.5   \n",
       "2                          60                          68             7.0   \n",
       "3                          14                          20             6.8   \n",
       "4                          27                          59             7.3   \n",
       "..                        ...                         ...             ...   \n",
       "578                        20                          34             5.9   \n",
       "579                        35                          31             6.0   \n",
       "580                        48                          49             6.4   \n",
       "581                        29                          32             6.8   \n",
       "582                        21                          24             7.3   \n",
       "\n",
       "     Albumin  Albumin_and_Globulin_Ratio  Required_Surgery  \n",
       "0        3.3                        0.90                 0  \n",
       "1        3.2                        0.74                 0  \n",
       "2        3.3                        0.89                 0  \n",
       "3        3.4                        1.00                 0  \n",
       "4        2.4                        0.40                 0  \n",
       "..       ...                         ...               ...  \n",
       "578      1.6                        0.37                 1  \n",
       "579      3.2                        1.10                 0  \n",
       "580      3.2                        1.00                 0  \n",
       "581      3.4                        1.00                 0  \n",
       "582      4.4                        1.50                 1  \n",
       "\n",
       "[583 rows x 11 columns]"
      ],
      "text/html": "<div>\n<style scoped>\n    .dataframe tbody tr th:only-of-type {\n        vertical-align: middle;\n    }\n\n    .dataframe tbody tr th {\n        vertical-align: top;\n    }\n\n    .dataframe thead th {\n        text-align: right;\n    }\n</style>\n<table border=\"1\" class=\"dataframe\">\n  <thead>\n    <tr style=\"text-align: right;\">\n      <th></th>\n      <th>Age</th>\n      <th>Is_Male</th>\n      <th>Total_Bilirubin</th>\n      <th>Direct_Bilirubin</th>\n      <th>Alkaline_Phosphotase</th>\n      <th>Alamine_Aminotransferase</th>\n      <th>Aspartate_Aminotransferase</th>\n      <th>Total_Protiens</th>\n      <th>Albumin</th>\n      <th>Albumin_and_Globulin_Ratio</th>\n      <th>Required_Surgery</th>\n    </tr>\n  </thead>\n  <tbody>\n    <tr>\n      <th>0</th>\n      <td>65</td>\n      <td>0</td>\n      <td>0.7</td>\n      <td>0.1</td>\n      <td>187</td>\n      <td>16</td>\n      <td>18</td>\n      <td>6.8</td>\n      <td>3.3</td>\n      <td>0.90</td>\n      <td>0</td>\n    </tr>\n    <tr>\n      <th>1</th>\n      <td>62</td>\n      <td>1</td>\n      <td>10.9</td>\n      <td>5.5</td>\n      <td>699</td>\n      <td>64</td>\n      <td>100</td>\n      <td>7.5</td>\n      <td>3.2</td>\n      <td>0.74</td>\n      <td>0</td>\n    </tr>\n    <tr>\n      <th>2</th>\n      <td>62</td>\n      <td>1</td>\n      <td>7.3</td>\n      <td>4.1</td>\n      <td>490</td>\n      <td>60</td>\n      <td>68</td>\n      <td>7.0</td>\n      <td>3.3</td>\n      <td>0.89</td>\n      <td>0</td>\n    </tr>\n    <tr>\n      <th>3</th>\n      <td>58</td>\n      <td>1</td>\n      <td>1.0</td>\n      <td>0.4</td>\n      <td>182</td>\n      <td>14</td>\n      <td>20</td>\n      <td>6.8</td>\n      <td>3.4</td>\n      <td>1.00</td>\n      <td>0</td>\n    </tr>\n    <tr>\n      <th>4</th>\n      <td>72</td>\n      <td>1</td>\n      <td>3.9</td>\n      <td>2.0</td>\n      <td>195</td>\n      <td>27</td>\n      <td>59</td>\n      <td>7.3</td>\n      <td>2.4</td>\n      <td>0.40</td>\n      <td>0</td>\n    </tr>\n    <tr>\n      <th>...</th>\n      <td>...</td>\n      <td>...</td>\n      <td>...</td>\n      <td>...</td>\n      <td>...</td>\n      <td>...</td>\n      <td>...</td>\n      <td>...</td>\n      <td>...</td>\n      <td>...</td>\n      <td>...</td>\n    </tr>\n    <tr>\n      <th>578</th>\n      <td>60</td>\n      <td>1</td>\n      <td>0.5</td>\n      <td>0.1</td>\n      <td>500</td>\n      <td>20</td>\n      <td>34</td>\n      <td>5.9</td>\n      <td>1.6</td>\n      <td>0.37</td>\n      <td>1</td>\n    </tr>\n    <tr>\n      <th>579</th>\n      <td>40</td>\n      <td>1</td>\n      <td>0.6</td>\n      <td>0.1</td>\n      <td>98</td>\n      <td>35</td>\n      <td>31</td>\n      <td>6.0</td>\n      <td>3.2</td>\n      <td>1.10</td>\n      <td>0</td>\n    </tr>\n    <tr>\n      <th>580</th>\n      <td>52</td>\n      <td>1</td>\n      <td>0.8</td>\n      <td>0.2</td>\n      <td>245</td>\n      <td>48</td>\n      <td>49</td>\n      <td>6.4</td>\n      <td>3.2</td>\n      <td>1.00</td>\n      <td>0</td>\n    </tr>\n    <tr>\n      <th>581</th>\n      <td>31</td>\n      <td>1</td>\n      <td>1.3</td>\n      <td>0.5</td>\n      <td>184</td>\n      <td>29</td>\n      <td>32</td>\n      <td>6.8</td>\n      <td>3.4</td>\n      <td>1.00</td>\n      <td>0</td>\n    </tr>\n    <tr>\n      <th>582</th>\n      <td>38</td>\n      <td>1</td>\n      <td>1.0</td>\n      <td>0.3</td>\n      <td>216</td>\n      <td>21</td>\n      <td>24</td>\n      <td>7.3</td>\n      <td>4.4</td>\n      <td>1.50</td>\n      <td>1</td>\n    </tr>\n  </tbody>\n</table>\n<p>583 rows × 11 columns</p>\n</div>"
     },
     "metadata": {},
     "execution_count": 32
    }
   ],
   "source": [
    "liver_df"
   ]
  },
  {
   "cell_type": "code",
   "execution_count": 38,
   "metadata": {},
   "outputs": [
    {
     "output_type": "execute_result",
     "data": {
      "text/plain": [
       "Age                           0\n",
       "Is_Male                       0\n",
       "Total_Bilirubin               0\n",
       "Direct_Bilirubin              0\n",
       "Alkaline_Phosphotase          0\n",
       "Alamine_Aminotransferase      0\n",
       "Aspartate_Aminotransferase    0\n",
       "Total_Protiens                0\n",
       "Albumin                       0\n",
       "Albumin_and_Globulin_Ratio    0\n",
       "Required_Surgery              0\n",
       "dtype: int64"
      ]
     },
     "metadata": {},
     "execution_count": 38
    }
   ],
   "source": [
    "liver_df = liver_df.dropna()\n",
    "liver_df.isnull().sum()"
   ]
  },
  {
   "cell_type": "code",
   "execution_count": 39,
   "metadata": {},
   "outputs": [],
   "source": [
    "X = liver_df.drop(columns = 'Required_Surgery')\n",
    "y = liver_df['Required_Surgery']"
   ]
  },
  {
   "cell_type": "code",
   "execution_count": 40,
   "metadata": {},
   "outputs": [
    {
     "output_type": "execute_result",
     "data": {
      "text/plain": [
       "     Age  Is_Male  Total_Bilirubin  Direct_Bilirubin  Alkaline_Phosphotase  \\\n",
       "0     65        0              0.7               0.1                   187   \n",
       "1     62        1             10.9               5.5                   699   \n",
       "2     62        1              7.3               4.1                   490   \n",
       "3     58        1              1.0               0.4                   182   \n",
       "4     72        1              3.9               2.0                   195   \n",
       "..   ...      ...              ...               ...                   ...   \n",
       "578   60        1              0.5               0.1                   500   \n",
       "579   40        1              0.6               0.1                    98   \n",
       "580   52        1              0.8               0.2                   245   \n",
       "581   31        1              1.3               0.5                   184   \n",
       "582   38        1              1.0               0.3                   216   \n",
       "\n",
       "     Alamine_Aminotransferase  Aspartate_Aminotransferase  Total_Protiens  \\\n",
       "0                          16                          18             6.8   \n",
       "1                          64                         100             7.5   \n",
       "2                          60                          68             7.0   \n",
       "3                          14                          20             6.8   \n",
       "4                          27                          59             7.3   \n",
       "..                        ...                         ...             ...   \n",
       "578                        20                          34             5.9   \n",
       "579                        35                          31             6.0   \n",
       "580                        48                          49             6.4   \n",
       "581                        29                          32             6.8   \n",
       "582                        21                          24             7.3   \n",
       "\n",
       "     Albumin  Albumin_and_Globulin_Ratio  \n",
       "0        3.3                        0.90  \n",
       "1        3.2                        0.74  \n",
       "2        3.3                        0.89  \n",
       "3        3.4                        1.00  \n",
       "4        2.4                        0.40  \n",
       "..       ...                         ...  \n",
       "578      1.6                        0.37  \n",
       "579      3.2                        1.10  \n",
       "580      3.2                        1.00  \n",
       "581      3.4                        1.00  \n",
       "582      4.4                        1.50  \n",
       "\n",
       "[579 rows x 10 columns]"
      ],
      "text/html": "<div>\n<style scoped>\n    .dataframe tbody tr th:only-of-type {\n        vertical-align: middle;\n    }\n\n    .dataframe tbody tr th {\n        vertical-align: top;\n    }\n\n    .dataframe thead th {\n        text-align: right;\n    }\n</style>\n<table border=\"1\" class=\"dataframe\">\n  <thead>\n    <tr style=\"text-align: right;\">\n      <th></th>\n      <th>Age</th>\n      <th>Is_Male</th>\n      <th>Total_Bilirubin</th>\n      <th>Direct_Bilirubin</th>\n      <th>Alkaline_Phosphotase</th>\n      <th>Alamine_Aminotransferase</th>\n      <th>Aspartate_Aminotransferase</th>\n      <th>Total_Protiens</th>\n      <th>Albumin</th>\n      <th>Albumin_and_Globulin_Ratio</th>\n    </tr>\n  </thead>\n  <tbody>\n    <tr>\n      <th>0</th>\n      <td>65</td>\n      <td>0</td>\n      <td>0.7</td>\n      <td>0.1</td>\n      <td>187</td>\n      <td>16</td>\n      <td>18</td>\n      <td>6.8</td>\n      <td>3.3</td>\n      <td>0.90</td>\n    </tr>\n    <tr>\n      <th>1</th>\n      <td>62</td>\n      <td>1</td>\n      <td>10.9</td>\n      <td>5.5</td>\n      <td>699</td>\n      <td>64</td>\n      <td>100</td>\n      <td>7.5</td>\n      <td>3.2</td>\n      <td>0.74</td>\n    </tr>\n    <tr>\n      <th>2</th>\n      <td>62</td>\n      <td>1</td>\n      <td>7.3</td>\n      <td>4.1</td>\n      <td>490</td>\n      <td>60</td>\n      <td>68</td>\n      <td>7.0</td>\n      <td>3.3</td>\n      <td>0.89</td>\n    </tr>\n    <tr>\n      <th>3</th>\n      <td>58</td>\n      <td>1</td>\n      <td>1.0</td>\n      <td>0.4</td>\n      <td>182</td>\n      <td>14</td>\n      <td>20</td>\n      <td>6.8</td>\n      <td>3.4</td>\n      <td>1.00</td>\n    </tr>\n    <tr>\n      <th>4</th>\n      <td>72</td>\n      <td>1</td>\n      <td>3.9</td>\n      <td>2.0</td>\n      <td>195</td>\n      <td>27</td>\n      <td>59</td>\n      <td>7.3</td>\n      <td>2.4</td>\n      <td>0.40</td>\n    </tr>\n    <tr>\n      <th>...</th>\n      <td>...</td>\n      <td>...</td>\n      <td>...</td>\n      <td>...</td>\n      <td>...</td>\n      <td>...</td>\n      <td>...</td>\n      <td>...</td>\n      <td>...</td>\n      <td>...</td>\n    </tr>\n    <tr>\n      <th>578</th>\n      <td>60</td>\n      <td>1</td>\n      <td>0.5</td>\n      <td>0.1</td>\n      <td>500</td>\n      <td>20</td>\n      <td>34</td>\n      <td>5.9</td>\n      <td>1.6</td>\n      <td>0.37</td>\n    </tr>\n    <tr>\n      <th>579</th>\n      <td>40</td>\n      <td>1</td>\n      <td>0.6</td>\n      <td>0.1</td>\n      <td>98</td>\n      <td>35</td>\n      <td>31</td>\n      <td>6.0</td>\n      <td>3.2</td>\n      <td>1.10</td>\n    </tr>\n    <tr>\n      <th>580</th>\n      <td>52</td>\n      <td>1</td>\n      <td>0.8</td>\n      <td>0.2</td>\n      <td>245</td>\n      <td>48</td>\n      <td>49</td>\n      <td>6.4</td>\n      <td>3.2</td>\n      <td>1.00</td>\n    </tr>\n    <tr>\n      <th>581</th>\n      <td>31</td>\n      <td>1</td>\n      <td>1.3</td>\n      <td>0.5</td>\n      <td>184</td>\n      <td>29</td>\n      <td>32</td>\n      <td>6.8</td>\n      <td>3.4</td>\n      <td>1.00</td>\n    </tr>\n    <tr>\n      <th>582</th>\n      <td>38</td>\n      <td>1</td>\n      <td>1.0</td>\n      <td>0.3</td>\n      <td>216</td>\n      <td>21</td>\n      <td>24</td>\n      <td>7.3</td>\n      <td>4.4</td>\n      <td>1.50</td>\n    </tr>\n  </tbody>\n</table>\n<p>579 rows × 10 columns</p>\n</div>"
     },
     "metadata": {},
     "execution_count": 40
    }
   ],
   "source": [
    "X"
   ]
  },
  {
   "cell_type": "code",
   "execution_count": 43,
   "metadata": {},
   "outputs": [
    {
     "output_type": "execute_result",
     "data": {
      "text/plain": [
       "0      0\n",
       "1      0\n",
       "2      0\n",
       "3      0\n",
       "4      0\n",
       "      ..\n",
       "578    1\n",
       "579    0\n",
       "580    0\n",
       "581    0\n",
       "582    1\n",
       "Name: Required_Surgery, Length: 579, dtype: int64"
      ]
     },
     "metadata": {},
     "execution_count": 43
    }
   ],
   "source": [
    "y"
   ]
  },
  {
   "cell_type": "code",
   "execution_count": 42,
   "metadata": {},
   "outputs": [
    {
     "output_type": "execute_result",
     "data": {
      "text/plain": [
       "RandomForestClassifier()"
      ]
     },
     "metadata": {},
     "execution_count": 42
    }
   ],
   "source": [
    "rfc = RandomForestClassifier()\n",
    "\n",
    "rfc.fit(X, y)"
   ]
  },
  {
   "cell_type": "code",
   "execution_count": 56,
   "metadata": {},
   "outputs": [
    {
     "output_type": "execute_result",
     "data": {
      "text/plain": [
       "1"
      ]
     },
     "metadata": {},
     "execution_count": 56
    }
   ],
   "source": [
    "rfc.predict([[88, 1, 1.0, 0.3, 216, 21, 24, 7.3, 4.4, 2.50]])[0]"
   ]
  }
 ]
}